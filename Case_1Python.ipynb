{
  "nbformat": 4,
  "nbformat_minor": 0,
  "metadata": {
    "colab": {
      "provenance": [],
      "authorship_tag": "ABX9TyNgr1qpy1isE+jB/9NVNOhd",
      "include_colab_link": true
    },
    "kernelspec": {
      "name": "python3",
      "display_name": "Python 3"
    },
    "language_info": {
      "name": "python"
    }
  },
  "cells": [
    {
      "cell_type": "markdown",
      "metadata": {
        "id": "view-in-github",
        "colab_type": "text"
      },
      "source": [
        "<a href=\"https://colab.research.google.com/github/Meire-Rosa/Arquivos-Legais/blob/main/Case_1Python.ipynb\" target=\"_parent\"><img src=\"https://colab.research.google.com/assets/colab-badge.svg\" alt=\"Open In Colab\"/></a>"
      ]
    },
    {
      "cell_type": "markdown",
      "source": [],
      "metadata": {
        "id": "gYsoiK8RwcUA"
      }
    },
    {
      "cell_type": "markdown",
      "source": [
        "Questão 1 - Uma empresa te enviou 3 listas, uma representa a largura, outra representa a altura e a terceira representa a área em m2 de determinado terreno, todas estão ordenadas entretanto tem alguns valores faltantes que precisam ser preenchidos, preencha os valores faltantes: Todos os terrenos dessa empresa são retangulares e você pode utilizar a fórmula abaixo: a = b. h (área = largura * altura) Utilize as listas abaixo: area = [200,'null',720,1500,1000,275,'null',1200,2400,'null'] altura = ['null',30,40,30,10,25,33,'null',12,20] largura = [20,20,'null',50,100,'null',30,100,200,10]"
      ],
      "metadata": {
        "id": "IrwAEJSqwkGV"
      }
    },
    {
      "cell_type": "code",
      "execution_count": null,
      "metadata": {
        "id": "45HZ2b37wTmR",
        "colab": {
          "base_uri": "https://localhost:8080/"
        },
        "outputId": "db28775d-9058-4ec4-adde-1c6436631c3f"
      },
      "outputs": [
        {
          "output_type": "stream",
          "name": "stdout",
          "text": [
            "[200, 600, 720, 1500, 1000, 275, 990, 1200, 2400, 200]\n",
            "[10.0, 30, 40, 30, 10, 25, 33, 12.0, 12, 20]\n",
            "[20, 20, 18.0, 50, 100, 11.0, 30, 100, 200, 10]\n"
          ]
        }
      ],
      "source": [
        "area = [200,'null',720,1500,1000,275,'null',1200,2400,'null']\n",
        "altura = ['null',30,40,30,10,25,33,'null',12,20]\n",
        "largura = [20,20,'null',50,100,'null',30,100,200,10]\n",
        "\n",
        "for i in range(len(area)):\n",
        "  if area[i]=='null':\n",
        "    area[i] = altura[i]*largura[i]\n",
        "  if altura[i] == 'null':\n",
        "    altura[i] = area[i]/largura[i]\n",
        "  if largura[i] == 'null':\n",
        "    largura[i] = area[i]/altura[i]\n",
        "\n",
        "print(area)\n",
        "print(altura)\n",
        "print(largura)\n",
        "\n"
      ]
    },
    {
      "cell_type": "markdown",
      "source": [
        "2. Geralmente os Terrenos possuem maior altura ou largura? Utilize as listas completas geradas no exercício anterior. "
      ],
      "metadata": {
        "id": "DmCgHl521K1f"
      }
    },
    {
      "cell_type": "code",
      "source": [
        "area = [200, 600, 720, 1500, 1000, 275, 990, 1200, 2400, 200]\n",
        "altura = [10.0, 30, 40, 30, 10, 25, 33, 12.0, 12, 20]\n",
        "largura = [20, 20, 18.0, 50, 100, 11.0, 30, 100, 200, 10]\n",
        "\n",
        "contAltura = 0\n",
        "contLargura = 0\n",
        "\n",
        "for i in range(len(area)):\n",
        "  if altura[i]>largura[i]:\n",
        "    contAltura = contAltura + 1\n",
        "  if largura[i]< altura[i]:\n",
        "    contLargura = contLargura +1\n",
        "\n",
        "#print(contAltura)\n",
        "#print(contLargura)\n",
        "\n",
        "if contAltura > contLargura :\n",
        "  print('Em geral, a altura dos terrenos é maior com relação à largura.')\n",
        "elif contAltura < contLargura :\n",
        "  print('Em geral, a largura dos terrenos é menor com relação à largura.')\n",
        "else:\n",
        "  print('Em geral, o número de terrenos com altura maior que a largura são equivalentes a número de terrenos com largura menor que a altura.')"
      ],
      "metadata": {
        "colab": {
          "base_uri": "https://localhost:8080/"
        },
        "id": "WXLbscdm1J7R",
        "outputId": "37e0d8a7-5e5e-4e82-a233-3639db39fa21"
      },
      "execution_count": null,
      "outputs": [
        {
          "output_type": "stream",
          "name": "stdout",
          "text": [
            "5\n",
            "5\n",
            "Em geral, o número de terrenos com altura maior que a largura são equivalentes a número de terrenos com largura menor que a altura.\n"
          ]
        }
      ]
    },
    {
      "cell_type": "markdown",
      "source": [
        "Questão 3 - Quantos metros quadradod a empresa tem no total e qual é a média de tamanho dos terrenos? Utilize as listas completas geradas no primeiro exercício."
      ],
      "metadata": {
        "id": "d4iMDBxG3r0_"
      }
    },
    {
      "cell_type": "code",
      "source": [
        "area = [200, 600, 720, 1500, 1000, 275, 990, 1200, 2400, 200]\n",
        "altura = [10.0, 30, 40, 30, 10, 25, 33, 12.0, 12, 20]\n",
        "largura = [20, 20, 18.0, 50, 100, 11.0, 30, 100, 200, 10]\n",
        "\n",
        "somaArea = sum(area)\n",
        "mediaAltura = (sum(altura))/len(altura)\n",
        "mediaLargura = (sum(largura))/len(largura)\n",
        "\n",
        "mediaTerreno = mediaAltura*mediaLargura\n",
        "\n",
        "print('A empresa possui o total de {} metros quadrados, sendo que seus terrenos possuem em média, {} metros quadrados'.format(somaArea, mediaTerreno) )\n",
        "\n"
      ],
      "metadata": {
        "colab": {
          "base_uri": "https://localhost:8080/"
        },
        "id": "2zCJg8Wj33C1",
        "outputId": "2b1067f8-27b9-46f5-d3b9-8b26f28ba242"
      },
      "execution_count": null,
      "outputs": [
        {
          "output_type": "stream",
          "name": "stdout",
          "text": [
            "A empresa possui o total de 9085 metros quadrados, sendo que seus terrenos possuem em média, 1240.98 metros quadrados\n"
          ]
        }
      ]
    }
  ]
}